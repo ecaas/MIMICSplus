{
 "cells": [
  {
   "cell_type": "code",
   "execution_count": null,
   "metadata": {},
   "outputs": [],
   "source": [
    "from netCDF4 import Dataset\n",
    "import numpy as np\n",
    "import pandas as pd\n",
    "import xarray as xr\n",
    "import os\n",
    "import matplotlib.pyplot as plt\n",
    "import matplotlib.dates as mdates\n",
    "import seaborn as sns\n",
    "from datetime import datetime,date\n",
    "import plotly.express as px\n",
    "import myfunction as mf\n",
    "#Define some lists/arrays\n",
    "depth = np.array([0.02, 0.04, 0.06, 0.08,0.12,0.16,0.20,0.24,0.28,0.32,0.36,0.40,0.44,0.54,0.64,0.74,0.84,0.94,1.04,1.14,2.39,4.676,7.635,11.140,15.115])\n",
    "node_z = [0.01,0.04,0.09,0.16,0.26,0.40,0.587,0.80,1.06,1.36,1.70,2.08,2.50,2.99,3.58,4.27,5.06,5.95,6.94,8.03,9.795,13.328,19.483,28.871,41.998]\n",
    "sec_pr_day=60*60*24\n",
    "depth_30=np.array([0.02,0.04,0.06,0.08,0.10]) #layer depths to multiply with concentrations\n",
    "depth_50=np.array([0.02,0.04,0.06,0.08,0.12,0.16,0.02]) #[meters]\n",
    "\n",
    "C_pool_names   =  ['LITm', 'LITs', 'SAPb', 'SAPf', 'EcM','AM', 'SOMp', 'SOMa', 'SOMc']\n",
    "N_pool_names =  ['N_LITm', 'N_LITs', 'N_SAPb', 'N_SAPf', 'N_EcM', 'N_AM','N_SOMp', 'N_SOMa', 'N_SOMc', 'N_NH4_sol','N_NH4_sorp','N_NO3']\n",
    "\n",
    "PFT_names=[\"not_vegetated                           \",\n",
    "    \"needleleaf_evergreen_temperate_tree     \",\n",
    "    \"needleleaf_evergreen_boreal_tree        \",\n",
    "    \"needleleaf_deciduous_boreal_tree        \",\n",
    "    \"broadleaf_evergreen_tropical_tree       \",\n",
    "    \"broadleaf_evergreen_temperate_tree      \",\n",
    "    \"broadleaf_deciduous_tropical_tree       \",\n",
    "    \"broadleaf_deciduous_temperate_tree      \",\n",
    "    \"broadleaf_deciduous_boreal_tree         \",\n",
    "    \"broadleaf_evergreen_shrub               \",\n",
    "    \"broadleaf_deciduous_temperate_shrub     \",\n",
    "    \"broadleaf_deciduous_boreal_shrub        \",\n",
    "    \"c3_arctic_grass                         \",\n",
    "    \"c3_non-arctic_grass                     \",\n",
    "    \"c4_grass                                \",]\n",
    "PFT_names=[i.strip() for i in PFT_names]\n",
    "\n",
    "temp_colors =[\"blue\",\"purple\",\"red\"]\n",
    "prec_colors = [\"goldenrod\",\"lightseagreen\",\"darkblue\"]"
   ]
  },
  {
   "cell_type": "code",
   "execution_count": null,
   "metadata": {},
   "outputs": [],
   "source": [
    "#COPY THIS TO NOTEBOOK, THE globals() THING DOES NOT WORK FROM HERE. \n",
    "def import_decomp(dir_list,file_ext,date_bool):\n",
    "    site_data=[]\n",
    "    decomp_names=[]\n",
    "    dirs = dir_list\n",
    "    path_of_the_directory = '/home/ecaas/soil_decomp/results/'\n",
    "\n",
    "    for folder in dirs:\n",
    "        ext = (folder+file_ext)\n",
    "        for files in os.listdir(path_of_the_directory+folder):\n",
    "            if files.endswith(ext):\n",
    "                filename = os.fsdecode(files)  \n",
    "                name = filename[:-len(ext)-1]\n",
    "                if name[0:2] != 'NR':\n",
    "                    name='NR'+name#+folder\n",
    "                else:\n",
    "                    name = name #+folder\n",
    "                decomp_names.append(name)\n",
    "                globals()[name+\"_\"+folder+file_ext[0:-3]] = xr.load_dataset(path_of_the_directory+folder+\"/\"+filename)\n",
    "\n",
    "                globals()[name+\"_\"+folder+file_ext[0:-3]].attrs['site_name'] = name\n",
    "                globals()[name+\"_\"+folder+file_ext[0:-3]].attrs['run_name'] = folder\n",
    "                if date_bool:\n",
    "                    mf.add_date_dim(globals()[name+\"_\"+folder+file_ext[0:-3]])\n",
    "\n",
    "                site_data.append(globals()[name+\"_\"+folder+file_ext[0:-3]])\n",
    "            else:\n",
    "                continue\n",
    "        site_data =  sorted(site_data,key=lambda x: x.site_name)\n",
    "        decomp_names = sorted(decomp_names)\n",
    "        #decomp_names: list of name strings\n",
    "        #site_data: list of xarrays\n",
    "    return decomp_names,site_data"
   ]
  },
  {
   "cell_type": "code",
   "execution_count": null,
   "metadata": {},
   "outputs": [],
   "source": [
    "def plot_depths_vr(data, pool_list,plot_title):\n",
    "\n",
    "    fig = plt.figure(figsize=(25, 5*len(data.levsoi)))\n",
    "    fig.suptitle(plot_title, fontsize=18, y=.90)\n",
    "    for i in range(len(data.levsoi)):\n",
    "        ax = fig.add_subplot(len(data.levsoi), 1, i+1)\n",
    "        ax.set_title(\"Layer nr: %i\" % i, fontsize=14)\n",
    "        for p in range(len(pool_list)):\n",
    "            pool_mass = data[pool_list[p]][i]*depth[i]\n",
    "            plt.plot(data.time, pool_mass, label='%s' % pool_list[p])\n",
    "            plt.legend()\n",
    "            plt.grid(True)\n",
    "# ///////////////////////////////////////////////////////////////////////////////////////////////////////////////////\n",
    "# This one does not plot the total mass!\n",
    "\n",
    "\n",
    "def plot_pools_vr(data, pool_list, plot_title):\n",
    "\n",
    "    fig = plt.figure(figsize=(25, 5*len(pool_list)))\n",
    "    fig.suptitle(plot_title, fontsize=18, y=.92)\n",
    "\n",
    "    for p in range(len(pool_list)):\n",
    "        ax = fig.add_subplot(len(pool_list), 1, p+1)\n",
    "        ax.set_title(pool_list[p], fontsize=14)\n",
    "        for i in range(len(data.levsoi)):\n",
    "            pool_mass = data[pool_list[p]][i]*depth[i]\n",
    "            plt.plot(data.time, pool_mass, label='Layer nr: %i' % (i+1))\n",
    "            plt.legend()\n",
    "            plt.grid(True)\n",
    "\n"
   ]
  },
  {
   "cell_type": "code",
   "execution_count": null,
   "metadata": {},
   "outputs": [],
   "source": [
    "def add_date_dim(data):  # data: xarray dataset\n",
    "\n",
    "    to_int = data.mcdate.astype('int')\n",
    "\n",
    "    to_str = to_int.astype('str')\n",
    "\n",
    "    dates_list = [datetime.strptime(date, '%Y%m%d')\n",
    "                  for date in list(to_str.values)]\n",
    "\n",
    "    data.coords[\"time\"] = dates_list\n",
    "\n",
    "    return data"
   ]
  },
  {
   "cell_type": "markdown",
   "metadata": {},
   "source": [
    "### Import spinup file and Inspect it:"
   ]
  },
  {
   "cell_type": "code",
   "execution_count": null,
   "metadata": {},
   "outputs": [],
   "source": [
    "#Load dataset as xarray:\n",
    "spinup_ds = xr.load_dataset(\"/home/ecaas/soil_decomp/results/test_Hurdal/31464_Hurdal_test_Hurdal_Spunup_yearly_mean.nc\") #change path if needed\n",
    "\n",
    "spinup_ds"
   ]
  },
  {
   "cell_type": "code",
   "execution_count": null,
   "metadata": {},
   "outputs": [],
   "source": [
    "#Plot each layer of each pool of C\n",
    "plot_depths_vr(spinup_ds,C_pool_names,\"Hurdal spinup\")"
   ]
  },
  {
   "cell_type": "code",
   "execution_count": null,
   "metadata": {},
   "outputs": [],
   "source": [
    "#Plot each pool in each layer of C\n",
    "plot_depths_vr(spinup_ds,C_pool_names,\"ALP1 spinup\")"
   ]
  },
  {
   "cell_type": "markdown",
   "metadata": {},
   "source": [
    "### Look at time period 1988-1992"
   ]
  },
  {
   "cell_type": "code",
   "execution_count": null,
   "metadata": {},
   "outputs": [],
   "source": [
    "hist_ds = xr.load_dataset(\"/home/ecaas/soil_decomp/results/test_Hurdal/31464_Hurdal_test_Hurdal_to2014.nc\")\n",
    "add_date_dim(hist_ds)\n",
    "hist_ds"
   ]
  },
  {
   "cell_type": "code",
   "execution_count": null,
   "metadata": {},
   "outputs": [],
   "source": [
    "def plot_seasonal_mass_and_conc_carbon(data, title):\n",
    "    month_length = data.time.dt.days_in_month\n",
    "    weights = (month_length.groupby(\"time.season\") /\n",
    "               month_length.groupby(\"time.season\").sum())\n",
    "    weighted_season_mean = (\n",
    "        weights*data).groupby(\"time.season\").sum(dim=\"time\")\n",
    "\n",
    "    # Use to convert from gC/m3 to gC/m2\n",
    "    active_depths = xr.DataArray(depth[:len(data.levsoi)], dims=\"levsoi\")\n",
    "    weighted_season_mean_mass = weighted_season_mean*active_depths\n",
    "\n",
    "    fig = plt.figure(figsize=[20, 30])\n",
    "    fig.suptitle(\"Mass of C, \"+title, y=0.92, fontsize=\"x-large\")\n",
    "    for n, ticker in enumerate(C_pool_names):\n",
    "        ax = plt.subplot(5, 3, n + 1)\n",
    "        ax.invert_yaxis()\n",
    "        plt.xlabel(\"[gC/m2]\")\n",
    "        plt.ylabel(\"Depth [m]\")\n",
    "        plt.grid()\n",
    "        for i in range(4):\n",
    "            ax.plot(weighted_season_mean_mass[C_pool_names[n]][i, :], node_z[0:len(weighted_season_mean_mass.levsoi)], \n",
    "                    '-*', label=\"%s\" % (weighted_season_mean.season[i].values))\n",
    "            ax.set_title(\"%s\" % (C_pool_names[n]))\n",
    "            ax.legend()\n",
    "\n",
    "    fig = plt.figure(figsize=[20, 30])\n",
    "    fig.suptitle(\"Concentration of C, \"+title, y=0.92, fontsize=\"x-large\")\n",
    "    for n, ticker in enumerate(C_pool_names):\n",
    "        ax = plt.subplot(5, 3, n + 1)\n",
    "        ax.invert_yaxis()\n",
    "        plt.xlabel(\"[gC/m3]\")\n",
    "        plt.ylabel(\" [m]\")\n",
    "        plt.grid()\n",
    "        for i in range(4):\n",
    "            ax.plot(weighted_season_mean[C_pool_names[n]][i, :], node_z[0:len(weighted_season_mean.levsoi)],\n",
    "                 '-*', label=\"%s\" % (weighted_season_mean.season[i].values))\n",
    "            ax.set_title(\"%s\" % (C_pool_names[n]))\n",
    "            ax.legend()\n"
   ]
  },
  {
   "cell_type": "code",
   "execution_count": null,
   "metadata": {},
   "outputs": [],
   "source": [
    "plot_seasonal_mass_and_conc_carbon(hist_ds,\"Hurdal 1988-1992\")"
   ]
  }
 ],
 "metadata": {
  "kernelspec": {
   "display_name": "Python 3.9.13 ('soil_env_test')",
   "language": "python",
   "name": "python3"
  },
  "language_info": {
   "codemirror_mode": {
    "name": "ipython",
    "version": 3
   },
   "file_extension": ".py",
   "mimetype": "text/x-python",
   "name": "python",
   "nbconvert_exporter": "python",
   "pygments_lexer": "ipython3",
   "version": "3.9.13 | packaged by conda-forge | (main, May 27 2022, 16:56:21) \n[GCC 10.3.0]"
  },
  "orig_nbformat": 4,
  "vscode": {
   "interpreter": {
    "hash": "06618b50063228db4e5df1e9e91700ab56f2868bf03473e3abd148a8195a23f7"
   }
  }
 },
 "nbformat": 4,
 "nbformat_minor": 2
}
